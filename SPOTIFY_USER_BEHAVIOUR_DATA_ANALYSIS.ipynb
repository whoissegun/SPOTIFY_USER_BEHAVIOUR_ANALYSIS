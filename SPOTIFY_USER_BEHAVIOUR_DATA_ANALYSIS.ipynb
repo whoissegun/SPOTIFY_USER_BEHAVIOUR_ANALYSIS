{
  "nbformat": 4,
  "nbformat_minor": 0,
  "metadata": {
    "colab": {
      "provenance": []
    },
    "kernelspec": {
      "name": "python3",
      "display_name": "Python 3"
    },
    "language_info": {
      "name": "python"
    }
  },
  "cells": [
    {
      "cell_type": "code",
      "execution_count": 1,
      "metadata": {
        "id": "xwo7ifUbrcAA"
      },
      "outputs": [],
      "source": [
        "import matplotlib.pyplot as plt\n",
        "import numpy as np\n",
        "import pandas as pd"
      ]
    },
    {
      "cell_type": "code",
      "source": [
        "from google.colab import drive\n",
        "drive.mount('/content/drive', force_remount=True) #mounting my google drive"
      ],
      "metadata": {
        "colab": {
          "base_uri": "https://localhost:8080/"
        },
        "id": "3mAEc0sEsNEz",
        "outputId": "145e0c99-87d6-43ca-997f-863d5fb05d5a"
      },
      "execution_count": 2,
      "outputs": [
        {
          "output_type": "stream",
          "name": "stdout",
          "text": [
            "Mounted at /content/drive\n"
          ]
        }
      ]
    },
    {
      "cell_type": "code",
      "source": [
        "!mkdir ~/.kaggle"
      ],
      "metadata": {
        "colab": {
          "base_uri": "https://localhost:8080/"
        },
        "id": "XrhJmjets_0u",
        "outputId": "e3948ebd-f0a3-41cb-ac8b-348ca10b5cc6"
      },
      "execution_count": 4,
      "outputs": [
        {
          "output_type": "stream",
          "name": "stdout",
          "text": [
            "mkdir: cannot create directory ‘/root/.kaggle’: File exists\n"
          ]
        }
      ]
    },
    {
      "cell_type": "code",
      "source": [
        "!cp /content/drive/MyDrive/KAGGLE_API_CREDENTIALS/kaggle.json ~/.kaggle/kaggle.json"
      ],
      "metadata": {
        "id": "ktShVGbJtIc4"
      },
      "execution_count": 5,
      "outputs": []
    },
    {
      "cell_type": "code",
      "source": [
        "!chmod 600 ~/.kaggle/kaggle.json"
      ],
      "metadata": {
        "id": "HJ5jq3vEtKpP"
      },
      "execution_count": 6,
      "outputs": []
    },
    {
      "cell_type": "code",
      "source": [
        "!kaggle datasets download -d meeraajayakumar/spotify-user-behavior-dataset\n",
        "#link to dataset: https://www.kaggle.com/datasets/meeraajayakumar/spotify-user-behavior-dataset"
      ],
      "metadata": {
        "id": "GKjkvXa3tNGb"
      },
      "execution_count": null,
      "outputs": []
    },
    {
      "cell_type": "code",
      "source": [
        "!unzip /content/spotify-user-behavior-dataset.zip"
      ],
      "metadata": {
        "id": "UbBUzcEStShw"
      },
      "execution_count": null,
      "outputs": []
    },
    {
      "cell_type": "code",
      "source": [
        "df = pd.read_excel('/content/Spotify_data.xlsx')"
      ],
      "metadata": {
        "id": "Fo1XV_Ketc50"
      },
      "execution_count": 9,
      "outputs": []
    },
    {
      "cell_type": "code",
      "source": [
        "df.head()"
      ],
      "metadata": {
        "colab": {
          "base_uri": "https://localhost:8080/",
          "height": 357
        },
        "id": "z1N9Qz-0thUV",
        "outputId": "e36bc738-b089-4900-8141-39a517cca54a"
      },
      "execution_count": 13,
      "outputs": [
        {
          "output_type": "execute_result",
          "data": {
            "text/plain": [
              "     Age  Gender spotify_usage_period  \\\n",
              "0  20-35  Female    More than 2 years   \n",
              "1  12-20    Male    More than 2 years   \n",
              "2  35-60  Others   6 months to 1 year   \n",
              "3  20-35  Female    1 year to 2 years   \n",
              "4  20-35  Female    1 year to 2 years   \n",
              "\n",
              "                         spotify_listening_device spotify_subscription_plan  \\\n",
              "0              Smart speakers or voice assistants       Free (ad-supported)   \n",
              "1                              Computer or laptop       Free (ad-supported)   \n",
              "2              Smart speakers or voice assistants       Free (ad-supported)   \n",
              "3  Smartphone, Smart speakers or voice assistants       Free (ad-supported)   \n",
              "4                                      Smartphone       Free (ad-supported)   \n",
              "\n",
              "  premium_sub_willingness          preffered_premium_plan  \\\n",
              "0                     Yes        Family Plan-Rs 179/month   \n",
              "1                     Yes  Individual Plan- Rs 119/ month   \n",
              "2                     Yes        Student Plan-Rs 59/month   \n",
              "3                      No                            None   \n",
              "4                      No                            None   \n",
              "\n",
              "  preferred_listening_content fav_music_genre music_time_slot  \\\n",
              "0                     Podcast          Melody           Night   \n",
              "1                     Podcast             Rap       Afternoon   \n",
              "2                     Podcast             Pop           Night   \n",
              "3                       Music          Melody           Night   \n",
              "4                       Music          Melody           Night   \n",
              "\n",
              "                              music_Influencial_mood  \\\n",
              "0                              Sadness or melancholy   \n",
              "1                       Social gatherings or parties   \n",
              "2                       Relaxation and stress relief   \n",
              "3  Relaxation and stress relief, Social gathering...   \n",
              "4                       Relaxation and stress relief   \n",
              "\n",
              "                           music_lis_frequency           music_expl_method  \\\n",
              "0                                 leisure time                   Playlists   \n",
              "1                              Workout session                   Playlists   \n",
              "2                 Study Hours, While Traveling                   Playlists   \n",
              "3  Office hours, Workout session, leisure time  recommendations, Playlists   \n",
              "4                                 leisure time  recommendations, Playlists   \n",
              "\n",
              "   music_recc_rating     pod_lis_frequency         fav_pod_genre  \\\n",
              "0                  3                 Daily                Comedy   \n",
              "1                  2  Several times a week                Comedy   \n",
              "2                  4           Once a week                Sports   \n",
              "3                  4                 Never                  None   \n",
              "4                  4                Rarely  Lifestyle and Health   \n",
              "\n",
              "  preffered_pod_format     pod_host_preference preffered_pod_duration  \\\n",
              "0            Interview                    Both                   Both   \n",
              "1            Interview                    Both                   None   \n",
              "2            Interview                    None                   Both   \n",
              "3                 None                    None                   None   \n",
              "4        Story telling  Well known individuals                   Both   \n",
              "\n",
              "  pod_variety_satisfaction  \n",
              "0                       Ok  \n",
              "1                Satisfied  \n",
              "2                Satisfied  \n",
              "3                       Ok  \n",
              "4                       Ok  "
            ],
            "text/html": [
              "\n",
              "\n",
              "  <div id=\"df-69d35fb2-9b3b-4f2b-92b8-ccc28caa6d4c\">\n",
              "    <div class=\"colab-df-container\">\n",
              "      <div>\n",
              "<style scoped>\n",
              "    .dataframe tbody tr th:only-of-type {\n",
              "        vertical-align: middle;\n",
              "    }\n",
              "\n",
              "    .dataframe tbody tr th {\n",
              "        vertical-align: top;\n",
              "    }\n",
              "\n",
              "    .dataframe thead th {\n",
              "        text-align: right;\n",
              "    }\n",
              "</style>\n",
              "<table border=\"1\" class=\"dataframe\">\n",
              "  <thead>\n",
              "    <tr style=\"text-align: right;\">\n",
              "      <th></th>\n",
              "      <th>Age</th>\n",
              "      <th>Gender</th>\n",
              "      <th>spotify_usage_period</th>\n",
              "      <th>spotify_listening_device</th>\n",
              "      <th>spotify_subscription_plan</th>\n",
              "      <th>premium_sub_willingness</th>\n",
              "      <th>preffered_premium_plan</th>\n",
              "      <th>preferred_listening_content</th>\n",
              "      <th>fav_music_genre</th>\n",
              "      <th>music_time_slot</th>\n",
              "      <th>music_Influencial_mood</th>\n",
              "      <th>music_lis_frequency</th>\n",
              "      <th>music_expl_method</th>\n",
              "      <th>music_recc_rating</th>\n",
              "      <th>pod_lis_frequency</th>\n",
              "      <th>fav_pod_genre</th>\n",
              "      <th>preffered_pod_format</th>\n",
              "      <th>pod_host_preference</th>\n",
              "      <th>preffered_pod_duration</th>\n",
              "      <th>pod_variety_satisfaction</th>\n",
              "    </tr>\n",
              "  </thead>\n",
              "  <tbody>\n",
              "    <tr>\n",
              "      <th>0</th>\n",
              "      <td>20-35</td>\n",
              "      <td>Female</td>\n",
              "      <td>More than 2 years</td>\n",
              "      <td>Smart speakers or voice assistants</td>\n",
              "      <td>Free (ad-supported)</td>\n",
              "      <td>Yes</td>\n",
              "      <td>Family Plan-Rs 179/month</td>\n",
              "      <td>Podcast</td>\n",
              "      <td>Melody</td>\n",
              "      <td>Night</td>\n",
              "      <td>Sadness or melancholy</td>\n",
              "      <td>leisure time</td>\n",
              "      <td>Playlists</td>\n",
              "      <td>3</td>\n",
              "      <td>Daily</td>\n",
              "      <td>Comedy</td>\n",
              "      <td>Interview</td>\n",
              "      <td>Both</td>\n",
              "      <td>Both</td>\n",
              "      <td>Ok</td>\n",
              "    </tr>\n",
              "    <tr>\n",
              "      <th>1</th>\n",
              "      <td>12-20</td>\n",
              "      <td>Male</td>\n",
              "      <td>More than 2 years</td>\n",
              "      <td>Computer or laptop</td>\n",
              "      <td>Free (ad-supported)</td>\n",
              "      <td>Yes</td>\n",
              "      <td>Individual Plan- Rs 119/ month</td>\n",
              "      <td>Podcast</td>\n",
              "      <td>Rap</td>\n",
              "      <td>Afternoon</td>\n",
              "      <td>Social gatherings or parties</td>\n",
              "      <td>Workout session</td>\n",
              "      <td>Playlists</td>\n",
              "      <td>2</td>\n",
              "      <td>Several times a week</td>\n",
              "      <td>Comedy</td>\n",
              "      <td>Interview</td>\n",
              "      <td>Both</td>\n",
              "      <td>None</td>\n",
              "      <td>Satisfied</td>\n",
              "    </tr>\n",
              "    <tr>\n",
              "      <th>2</th>\n",
              "      <td>35-60</td>\n",
              "      <td>Others</td>\n",
              "      <td>6 months to 1 year</td>\n",
              "      <td>Smart speakers or voice assistants</td>\n",
              "      <td>Free (ad-supported)</td>\n",
              "      <td>Yes</td>\n",
              "      <td>Student Plan-Rs 59/month</td>\n",
              "      <td>Podcast</td>\n",
              "      <td>Pop</td>\n",
              "      <td>Night</td>\n",
              "      <td>Relaxation and stress relief</td>\n",
              "      <td>Study Hours, While Traveling</td>\n",
              "      <td>Playlists</td>\n",
              "      <td>4</td>\n",
              "      <td>Once a week</td>\n",
              "      <td>Sports</td>\n",
              "      <td>Interview</td>\n",
              "      <td>None</td>\n",
              "      <td>Both</td>\n",
              "      <td>Satisfied</td>\n",
              "    </tr>\n",
              "    <tr>\n",
              "      <th>3</th>\n",
              "      <td>20-35</td>\n",
              "      <td>Female</td>\n",
              "      <td>1 year to 2 years</td>\n",
              "      <td>Smartphone, Smart speakers or voice assistants</td>\n",
              "      <td>Free (ad-supported)</td>\n",
              "      <td>No</td>\n",
              "      <td>None</td>\n",
              "      <td>Music</td>\n",
              "      <td>Melody</td>\n",
              "      <td>Night</td>\n",
              "      <td>Relaxation and stress relief, Social gathering...</td>\n",
              "      <td>Office hours, Workout session, leisure time</td>\n",
              "      <td>recommendations, Playlists</td>\n",
              "      <td>4</td>\n",
              "      <td>Never</td>\n",
              "      <td>None</td>\n",
              "      <td>None</td>\n",
              "      <td>None</td>\n",
              "      <td>None</td>\n",
              "      <td>Ok</td>\n",
              "    </tr>\n",
              "    <tr>\n",
              "      <th>4</th>\n",
              "      <td>20-35</td>\n",
              "      <td>Female</td>\n",
              "      <td>1 year to 2 years</td>\n",
              "      <td>Smartphone</td>\n",
              "      <td>Free (ad-supported)</td>\n",
              "      <td>No</td>\n",
              "      <td>None</td>\n",
              "      <td>Music</td>\n",
              "      <td>Melody</td>\n",
              "      <td>Night</td>\n",
              "      <td>Relaxation and stress relief</td>\n",
              "      <td>leisure time</td>\n",
              "      <td>recommendations, Playlists</td>\n",
              "      <td>4</td>\n",
              "      <td>Rarely</td>\n",
              "      <td>Lifestyle and Health</td>\n",
              "      <td>Story telling</td>\n",
              "      <td>Well known individuals</td>\n",
              "      <td>Both</td>\n",
              "      <td>Ok</td>\n",
              "    </tr>\n",
              "  </tbody>\n",
              "</table>\n",
              "</div>\n",
              "      <button class=\"colab-df-convert\" onclick=\"convertToInteractive('df-69d35fb2-9b3b-4f2b-92b8-ccc28caa6d4c')\"\n",
              "              title=\"Convert this dataframe to an interactive table.\"\n",
              "              style=\"display:none;\">\n",
              "\n",
              "  <svg xmlns=\"http://www.w3.org/2000/svg\" height=\"24px\"viewBox=\"0 0 24 24\"\n",
              "       width=\"24px\">\n",
              "    <path d=\"M0 0h24v24H0V0z\" fill=\"none\"/>\n",
              "    <path d=\"M18.56 5.44l.94 2.06.94-2.06 2.06-.94-2.06-.94-.94-2.06-.94 2.06-2.06.94zm-11 1L8.5 8.5l.94-2.06 2.06-.94-2.06-.94L8.5 2.5l-.94 2.06-2.06.94zm10 10l.94 2.06.94-2.06 2.06-.94-2.06-.94-.94-2.06-.94 2.06-2.06.94z\"/><path d=\"M17.41 7.96l-1.37-1.37c-.4-.4-.92-.59-1.43-.59-.52 0-1.04.2-1.43.59L10.3 9.45l-7.72 7.72c-.78.78-.78 2.05 0 2.83L4 21.41c.39.39.9.59 1.41.59.51 0 1.02-.2 1.41-.59l7.78-7.78 2.81-2.81c.8-.78.8-2.07 0-2.86zM5.41 20L4 18.59l7.72-7.72 1.47 1.35L5.41 20z\"/>\n",
              "  </svg>\n",
              "      </button>\n",
              "\n",
              "\n",
              "\n",
              "    <div id=\"df-0e39ee1e-55bf-4e86-a6a3-47f21a5ad23c\">\n",
              "      <button class=\"colab-df-quickchart\" onclick=\"quickchart('df-0e39ee1e-55bf-4e86-a6a3-47f21a5ad23c')\"\n",
              "              title=\"Suggest charts.\"\n",
              "              style=\"display:none;\">\n",
              "\n",
              "<svg xmlns=\"http://www.w3.org/2000/svg\" height=\"24px\"viewBox=\"0 0 24 24\"\n",
              "     width=\"24px\">\n",
              "    <g>\n",
              "        <path d=\"M19 3H5c-1.1 0-2 .9-2 2v14c0 1.1.9 2 2 2h14c1.1 0 2-.9 2-2V5c0-1.1-.9-2-2-2zM9 17H7v-7h2v7zm4 0h-2V7h2v10zm4 0h-2v-4h2v4z\"/>\n",
              "    </g>\n",
              "</svg>\n",
              "      </button>\n",
              "    </div>\n",
              "\n",
              "<style>\n",
              "  .colab-df-quickchart {\n",
              "    background-color: #E8F0FE;\n",
              "    border: none;\n",
              "    border-radius: 50%;\n",
              "    cursor: pointer;\n",
              "    display: none;\n",
              "    fill: #1967D2;\n",
              "    height: 32px;\n",
              "    padding: 0 0 0 0;\n",
              "    width: 32px;\n",
              "  }\n",
              "\n",
              "  .colab-df-quickchart:hover {\n",
              "    background-color: #E2EBFA;\n",
              "    box-shadow: 0px 1px 2px rgba(60, 64, 67, 0.3), 0px 1px 3px 1px rgba(60, 64, 67, 0.15);\n",
              "    fill: #174EA6;\n",
              "  }\n",
              "\n",
              "  [theme=dark] .colab-df-quickchart {\n",
              "    background-color: #3B4455;\n",
              "    fill: #D2E3FC;\n",
              "  }\n",
              "\n",
              "  [theme=dark] .colab-df-quickchart:hover {\n",
              "    background-color: #434B5C;\n",
              "    box-shadow: 0px 1px 3px 1px rgba(0, 0, 0, 0.15);\n",
              "    filter: drop-shadow(0px 1px 2px rgba(0, 0, 0, 0.3));\n",
              "    fill: #FFFFFF;\n",
              "  }\n",
              "</style>\n",
              "\n",
              "    <script>\n",
              "      async function quickchart(key) {\n",
              "        const containerElement = document.querySelector('#' + key);\n",
              "        const charts = await google.colab.kernel.invokeFunction(\n",
              "            'suggestCharts', [key], {});\n",
              "      }\n",
              "    </script>\n",
              "\n",
              "      <script>\n",
              "\n",
              "function displayQuickchartButton(domScope) {\n",
              "  let quickchartButtonEl =\n",
              "    domScope.querySelector('#df-0e39ee1e-55bf-4e86-a6a3-47f21a5ad23c button.colab-df-quickchart');\n",
              "  quickchartButtonEl.style.display =\n",
              "    google.colab.kernel.accessAllowed ? 'block' : 'none';\n",
              "}\n",
              "\n",
              "        displayQuickchartButton(document);\n",
              "      </script>\n",
              "      <style>\n",
              "    .colab-df-container {\n",
              "      display:flex;\n",
              "      flex-wrap:wrap;\n",
              "      gap: 12px;\n",
              "    }\n",
              "\n",
              "    .colab-df-convert {\n",
              "      background-color: #E8F0FE;\n",
              "      border: none;\n",
              "      border-radius: 50%;\n",
              "      cursor: pointer;\n",
              "      display: none;\n",
              "      fill: #1967D2;\n",
              "      height: 32px;\n",
              "      padding: 0 0 0 0;\n",
              "      width: 32px;\n",
              "    }\n",
              "\n",
              "    .colab-df-convert:hover {\n",
              "      background-color: #E2EBFA;\n",
              "      box-shadow: 0px 1px 2px rgba(60, 64, 67, 0.3), 0px 1px 3px 1px rgba(60, 64, 67, 0.15);\n",
              "      fill: #174EA6;\n",
              "    }\n",
              "\n",
              "    [theme=dark] .colab-df-convert {\n",
              "      background-color: #3B4455;\n",
              "      fill: #D2E3FC;\n",
              "    }\n",
              "\n",
              "    [theme=dark] .colab-df-convert:hover {\n",
              "      background-color: #434B5C;\n",
              "      box-shadow: 0px 1px 3px 1px rgba(0, 0, 0, 0.15);\n",
              "      filter: drop-shadow(0px 1px 2px rgba(0, 0, 0, 0.3));\n",
              "      fill: #FFFFFF;\n",
              "    }\n",
              "  </style>\n",
              "\n",
              "      <script>\n",
              "        const buttonEl =\n",
              "          document.querySelector('#df-69d35fb2-9b3b-4f2b-92b8-ccc28caa6d4c button.colab-df-convert');\n",
              "        buttonEl.style.display =\n",
              "          google.colab.kernel.accessAllowed ? 'block' : 'none';\n",
              "\n",
              "        async function convertToInteractive(key) {\n",
              "          const element = document.querySelector('#df-69d35fb2-9b3b-4f2b-92b8-ccc28caa6d4c');\n",
              "          const dataTable =\n",
              "            await google.colab.kernel.invokeFunction('convertToInteractive',\n",
              "                                                     [key], {});\n",
              "          if (!dataTable) return;\n",
              "\n",
              "          const docLinkHtml = 'Like what you see? Visit the ' +\n",
              "            '<a target=\"_blank\" href=https://colab.research.google.com/notebooks/data_table.ipynb>data table notebook</a>'\n",
              "            + ' to learn more about interactive tables.';\n",
              "          element.innerHTML = '';\n",
              "          dataTable['output_type'] = 'display_data';\n",
              "          await google.colab.output.renderOutput(dataTable, element);\n",
              "          const docLink = document.createElement('div');\n",
              "          docLink.innerHTML = docLinkHtml;\n",
              "          element.appendChild(docLink);\n",
              "        }\n",
              "      </script>\n",
              "    </div>\n",
              "  </div>\n"
            ]
          },
          "metadata": {},
          "execution_count": 13
        }
      ]
    },
    {
      "cell_type": "code",
      "source": [
        "#Showing age distribution of users in pie chart form\n",
        "\n",
        "# Create a Series with the value counts\n",
        "age_counts = df['Age'].value_counts()\n",
        "\n",
        "\n",
        "# Generate the pie chart\n",
        "plt.figure(figsize=(10,6))\n",
        "plt.pie(age_counts, labels=age_counts.index, autopct='%1.1f%%')\n",
        "# age_counts.plot(kind='pie', autopct='%1.1f%%',figsize=(10,6))\n",
        "plt.title('Age Distribution Of Users')\n",
        "plt.show()"
      ],
      "metadata": {
        "colab": {
          "base_uri": "https://localhost:8080/",
          "height": 521
        },
        "id": "fA03wyxxttSa",
        "outputId": "4f368421-770c-4330-b17a-861f2477b79c"
      },
      "execution_count": 70,
      "outputs": [
        {
          "output_type": "display_data",
          "data": {
            "text/plain": [
              "<Figure size 1000x600 with 1 Axes>"
            ],
            "image/png": "[encoded data removed]"
          },
          "metadata": {}
        }
      ]
    },
    {
      "cell_type": "code",
      "source": [
        "#Showing age distribution of users in tabular form\n",
        "\n",
        "# Create a DataFrame from the Series\n",
        "age_counts_df = age_counts.to_frame()\n",
        "\n",
        "# Rename the column\n",
        "age_counts_df.columns = ['Count']\n",
        "\n",
        "# Calculate the percentage for each age group\n",
        "age_counts_df['Percentage'] = (age_counts_df['Count'] / age_counts_df['Count'].sum()) * 100\n",
        "print(age_counts_df)\n"
      ],
      "metadata": {
        "colab": {
          "base_uri": "https://localhost:8080/"
        },
        "id": "iuMMjmuav2Mj",
        "outputId": "49df4e63-2e15-47b9-eb0f-ab3aed6e5c80"
      },
      "execution_count": 34,
      "outputs": [
        {
          "output_type": "stream",
          "name": "stdout",
          "text": [
            "       Count  Percentage\n",
            "20-35    422   81.153846\n",
            "12-20     71   13.653846\n",
            "35-60     23    4.423077\n",
            "6-12       3    0.576923\n",
            "60+        1    0.192308\n"
          ]
        }
      ]
    },
    {
      "cell_type": "markdown",
      "source": [
        "Based on the age distribution data:\n",
        "\n",
        "- The majority of the users fall within the age group of 20-35, making up 81.2% of the total user base. This suggests that Spotify is most popular among younger adults.\n",
        "- The next largest age group is 12-20, accounting for 13.7% of the user base. This indicates that Spotify also has a significant number of teenage users.\n",
        "- Users aged 35-60 make up a smaller portion of the user base, at just 4.4%. This implies that middle-aged adults use Spotify less frequently than younger adults and teenagers.\n",
        "- Children (age 6-12) and older adults (60+) represent a very small portion of the user base, at 0.6% and 0.2% respectively. This indicates that Spotify is less popular among these age groups.\n",
        "\n",
        "The data suggests that Spotify is most popular among younger users, particularly those between the ages of 20 and 35. It may be beneficial for Spotify to focus their marketing and content efforts on this demographic. However, there could also be an opportunity to increase usage among less-represented age groups, such as middle-aged and older adults, by offering more targeted content and features."
      ],
      "metadata": {
        "id": "W7GwypkXypLn"
      }
    },
    {
      "cell_type": "code",
      "source": [
        "#Analyzing the age groups of users and their spotify usage period\n",
        "\n",
        "# Group by Age and UsagePeriod and get the counts\n",
        "age_usage_counts = df.groupby([ 'spotify_usage_period','Age']).size().unstack(fill_value=0)\n",
        "\n",
        "\n",
        "# Calculate the proportions\n",
        "age_usage_props = age_usage_counts.divide(age_usage_counts.sum(axis=1), axis=0)\n",
        "\n",
        "# Convert to percentages\n",
        "age_usage_props = round(age_usage_props * 100,1)\n",
        "\n",
        "print(age_usage_props)\n",
        "# Generate a stacked bar plot with percentages\n",
        "age_usage_props.plot(kind='bar', stacked=False, figsize=(10,6))\n",
        "plt.ylabel('Percentage')\n",
        "plt.title('Spotify Usage Period by Age Group')\n",
        "plt.show()\n"
      ],
      "metadata": {
        "colab": {
          "base_uri": "https://localhost:8080/",
          "height": 790
        },
        "id": "z1OK6ioky4rV",
        "outputId": "d32e6d29-0634-4519-da72-d8355cf48544"
      },
      "execution_count": 62,
      "outputs": [
        {
          "output_type": "stream",
          "name": "stdout",
          "text": [
            "Age                   12-20  20-35  35-60  6-12  60+\n",
            "spotify_usage_period                                \n",
            "1 year to 2 years      16.3   78.0    4.3   0.7  0.7\n",
            "6 months to 1 year     24.4   67.2    7.6   0.8  0.0\n",
            "Less than 6 months      4.4   91.2    4.4   0.0  0.0\n",
            "More than 2 years       8.9   88.2    2.4   0.6  0.0\n"
          ]
        },
        {
          "output_type": "display_data",
          "data": {
            "text/plain": [
              "<Figure size 1000x600 with 1 Axes>"
            ],
            "image/png": "[encoded data removed]"
          },
          "metadata": {}
        }
      ]
    },
    {
      "cell_type": "markdown",
      "source": [
        "Based on the Spotify usage data by age group:\n",
        "\n",
        "- Among users who have been using Spotify for \"1 year to 2 years\", 78.0% are in the \"20-35\" age group, followed by 16.3% in the \"12-20\" age group. The \"35-60\", \"6-12\", and \"60+\" age groups make up a smaller proportion of this user category.\n",
        "\n",
        "- For users with a Spotify usage period of \"6 months to 1 year\", the \"20-35\" age group is again the largest, comprising 67.2% of these users. However, the \"12-20\" age group makes up a larger proportion in this category compared to the \"1 year to 2 years\" category, indicating that more recent Spotify adopters are likely to be younger.\n",
        "\n",
        "- Users who have been using Spotify for \"Less than 6 months\" are predominantly in the \"20-35\" age group (91.2%). Only a small proportion are in the \"12-20\" and \"35-60\" age groups, and none are in the \"6-12\" and \"60+\" age groups. This suggests that Spotify's most recent adopters are primarily young adults.\n",
        "\n",
        "- Among the users who have been using Spotify for \"More than 2 years\", the vast majority are also in the \"20-35\" age group (88.2%), with only a small number in the \"12-20\" and \"35-60\" age groups. Almost no users in the \"6-12\" and \"60+\" age groups have been using Spotify for more than 2 years.\n",
        "\n",
        "This data suggests that young adults (ages 20-35) are the most prevalent Spotify users across all usage periods, indicating that this age group has the highest adoption and retention rates. However, there's an increasing trend of younger users (ages 12-20) adopting Spotify, particularly among those who have been using Spotify for less than 2 years. Efforts to attract and retain users in other age groups, particularly the \"35-60\" and \"60+\" age groups, may be less successful, as they comprise a small proportion of users across all usage periods."
      ],
      "metadata": {
        "id": "rrtjBxwq-yW8"
      }
    },
    {
      "cell_type": "code",
      "source": [
        "# Count the frequency of each rating\n",
        "music_rec_rating_count = df['music_recc_rating'].value_counts()\n",
        "\n",
        "print(music_rec_rating_count)\n",
        "# Plot the frequencies as a bar chart\n",
        "music_rec_rating_count.plot(kind='bar', figsize=(10,6))\n",
        "\n",
        "# Give the chart a title, and label the x and y axes\n",
        "plt.title('Music Recommendation Rating Distribution')\n",
        "plt.xlabel('Rating')\n",
        "plt.ylabel('Frequency')\n",
        "\n",
        "# Display the chart\n",
        "plt.show()\n"
      ],
      "metadata": {
        "colab": {
          "base_uri": "https://localhost:8080/",
          "height": 663
        },
        "id": "mReWk63J-0KD",
        "outputId": "fbcee7e9-4ff3-4aab-d020-dbe6eeb7909c"
      },
      "execution_count": 68,
      "outputs": [
        {
          "output_type": "stream",
          "name": "stdout",
          "text": [
            "3    190\n",
            "4    174\n",
            "5     86\n",
            "2     56\n",
            "1     14\n",
            "Name: music_recc_rating, dtype: int64\n"
          ]
        },
        {
          "output_type": "display_data",
          "data": {
            "text/plain": [
              "<Figure size 1000x600 with 1 Axes>"
            ],
            "image/png": "[encoded data removed]"
          },
          "metadata": {}
        }
      ]
    },
    {
      "cell_type": "markdown",
      "source": [
        "This data represents how users rate the music recommendation feature of a platform, presumably on a scale from 1 to 5.\n",
        "\n",
        "- A rating of \"3\" was the most common among the users, with 190 users giving this rating. This suggests that a majority of the users find the music recommendations to be average or satisfactory.\n",
        "- The second most common rating is \"4\", given by 174 users, indicating a significant number of users who are quite satisfied with the music recommendations.\n",
        "- The rating of \"5\" was given by 86 users, showing that a smaller, but still notable, group of users are extremely satisfied with the music recommendations.\n",
        "- A lower rating of \"2\" was given by 56 users, suggesting some users are not very satisfied with the music recommendations.\n",
        "- The lowest rating of \"1\" was given by 14 users, showing that a small fraction of users are very unsatisfied with the music recommendations.\n",
        "\n",
        "In general, it appears that users are relatively satisfied with the music recommendations, with the majority rating them as 3 or 4. However, there is still room for improvement, as evidenced by the users who gave lower ratings."
      ],
      "metadata": {
        "id": "mBQ6SQAUCmHm"
      }
    }
  ]
}